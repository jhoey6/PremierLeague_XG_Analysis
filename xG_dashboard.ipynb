{
 "cells": [
  {
   "cell_type": "code",
   "execution_count": 2,
   "metadata": {},
   "outputs": [],
   "source": [
    "# Import required libraries\n",
    "import pandas as pd\n",
    "import dash\n",
    "import dash_html_components as html\n",
    "import dash_core_components as dcc\n",
    "from dash.dependencies import Input, Output, State\n",
    "from jupyter_dash import JupyterDash\n",
    "import plotly.graph_objects as go\n",
    "import plotly.express as px\n",
    "from dash import no_update\n",
    "import base64"
   ]
  },
  {
   "cell_type": "code",
   "execution_count": 3,
   "metadata": {},
   "outputs": [],
   "source": [
    "PLxG_21 = pd.read_csv('adv_shooting_PL_21.csv')"
   ]
  },
  {
   "cell_type": "code",
   "execution_count": 4,
   "metadata": {},
   "outputs": [],
   "source": [
    "# Create a dash application\n",
    "app = JupyterDash(__name__)\n",
    "#JupyterDash.infer_jupyter_proxy_config()\n",
    "\n",
    "#app.config.suppress_callback_exceptions = True"
   ]
  },
  {
   "cell_type": "code",
   "execution_count": 5,
   "metadata": {},
   "outputs": [],
   "source": [
    "test_png = 'pl_img.png'\n",
    "test_base64 = base64.b64encode(open(test_png, 'rb').read()).decode('ascii')"
   ]
  },
  {
   "cell_type": "code",
   "execution_count": 6,
   "metadata": {},
   "outputs": [],
   "source": [
    "#formatting\n",
    "colors = {\n",
    "    'background': '#111111',\n",
    "    'text': '#7FDBFF'\n",
    "}"
   ]
  },
  {
   "cell_type": "code",
   "execution_count": 7,
   "metadata": {},
   "outputs": [],
   "source": [
    "team_dropdown = [{'label': 'Arsenal', 'value': 'ARS'},\n",
    "                 {'label': 'Aston Villa', 'value': 'AVL'},\n",
    "                 {'label': 'Brighton', 'value': 'BHA'},\n",
    "                 {'label': 'Burnley', 'value': 'BUR'},\n",
    "                 {'label': 'Crystal Palace', 'value': 'CPY'},\n",
    "                 {'label': 'Everton', 'value': 'EVE'},\n",
    "                 {'label': 'Fulham', 'value': 'FUL'},\n",
    "                 {'label': 'Leeds United', 'value': 'LEE'},\n",
    "                 {'label': 'Leicester City', 'value': 'LEI'},\n",
    "                 {'label': 'Liverpool', 'value': 'LVP'},\n",
    "                 {'label': 'Manchester City', 'value': 'MNC'},\n",
    "                 {'label': 'Manchester United', 'value': 'MNU'},\n",
    "                 {'label': 'Newcastle United', 'value': 'NEW'},\n",
    "                 {'label': 'Sheffield United', 'value': 'SHE'},\n",
    "                 {'label': 'Southampton', 'value': 'SOU'},\n",
    "                 {'label': 'Tottenham Hotspurs', 'value': 'TOT'},\n",
    "                 {'label': 'West Bromich Albion', 'value': 'WBA'},\n",
    "                 {'label': 'West Ham United', 'value': 'WHA'},\n",
    "                 {'label': 'Wolverhampton Wanderers', 'value': 'WOL'}\n",
    "                ]"
   ]
  },
  {
   "cell_type": "code",
   "execution_count": 9,
   "metadata": {},
   "outputs": [
    {
     "data": {
      "text/plain": [
       "{1: 1,\n",
       " 2: 2,\n",
       " 3: 3,\n",
       " 4: 4,\n",
       " 5: 5,\n",
       " 6: 6,\n",
       " 7: 7,\n",
       " 8: 8,\n",
       " 9: 9,\n",
       " 10: 10,\n",
       " 11: 11,\n",
       " 12: 12,\n",
       " 13: 13,\n",
       " 14: 14,\n",
       " 15: 15,\n",
       " 16: 16,\n",
       " 17: 17,\n",
       " 18: 18,\n",
       " 19: 19,\n",
       " 20: 20,\n",
       " 21: 21,\n",
       " 22: 22,\n",
       " 23: 23,\n",
       " 24: 24,\n",
       " 25: 25,\n",
       " 26: 26,\n",
       " 27: 27,\n",
       " 28: 28,\n",
       " 29: 29,\n",
       " 33: 33}"
      ]
     },
     "execution_count": 9,
     "metadata": {},
     "output_type": "execute_result"
    }
   ],
   "source": [
    "{x:x for x in set(PLxG_21['Round'])}\n"
   ]
  },
  {
   "cell_type": "code",
   "execution_count": 10,
   "metadata": {},
   "outputs": [],
   "source": [
    "app.layout = html.Div(children=[\n",
    "    html.Div([\n",
    "        html.H1('Premier Leauge 2020-2021 Advanced Shooting Dashboard', style={'textAlign': 'center', 'font-size': 40}),\n",
    "        html.Img(src='data:image/png;base64,{}'.format(test_base64))       \n",
    "    ], style={'display': 'flex', 'color': colors['text']}),\n",
    "     \n",
    "    html.Div(className = 'toggle', children=[\n",
    "        html.Div(\n",
    "        dcc.Dropdown(id='team-select',\n",
    "                    options = team_dropdown,\n",
    "                    placeholder='Select Teams',\n",
    "                    #style={'width':'50%', 'padding':'3px', 'font-size': '20px', 'text-align-last' : 'center'},\n",
    "                    value = ['ARS', 'AVL'],\n",
    "                    multi=True)),\n",
    "        html.Div(\n",
    "        dcc.RangeSlider(id='matchday-range',\n",
    "                       min=1,\n",
    "                       max=36,\n",
    "                       step=1,\n",
    "                       value=[1, 36],\n",
    "                       marks = {x:x for x in set(PLxG_21['Round'])},\n",
    "                       allowCross=False))\n",
    "        \n",
    "    ]),\n",
    "    \n",
    "    html.Div(dcc.Graph(id='plot1'))\n",
    "        \n",
    "    ])\n",
    "\n"
   ]
  },
  {
   "cell_type": "code",
   "execution_count": 11,
   "metadata": {},
   "outputs": [],
   "source": [
    "@app.callback(Output(component_id='plot1', component_property='figure'),\n",
    "              [Input(component_id='team-select', component_property='value')])\n",
    "def matchday_xG(teams):\n",
    "    if type(teams) == 'str':\n",
    "        df = PLxG_21[PLxG_21['Team'] == teams]\n",
    "    else:\n",
    "        df = PLxG_21[PLxG_21['Team'].isin(teams)]\n",
    "    fig = px.area(df, x='Round', y='xG', color='Team')\n",
    "    return fig\n",
    "              "
   ]
  },
  {
   "cell_type": "code",
   "execution_count": 13,
   "metadata": {},
   "outputs": [
    {
     "name": "stderr",
     "output_type": "stream",
     "text": [
      " * Running on http://localhost:5000/ (Press CTRL+C to quit)\n",
      "127.0.0.1 - - [25/Mar/2021 20:50:17] \"GET /_alive_d7fe9161-e38f-4844-a138-4f0c82080166 HTTP/1.1\" 200 -\n"
     ]
    },
    {
     "name": "stdout",
     "output_type": "stream",
     "text": [
      "Dash app running on http://localhost:5000/\n"
     ]
    },
    {
     "name": "stderr",
     "output_type": "stream",
     "text": [
      "127.0.0.1 - - [25/Mar/2021 20:50:25] \"GET / HTTP/1.1\" 200 -\n",
      "127.0.0.1 - - [25/Mar/2021 20:50:25] \"GET /_dash-dependencies HTTP/1.1\" 200 -\n",
      "127.0.0.1 - - [25/Mar/2021 20:50:25] \"GET /_dash-layout HTTP/1.1\" 200 -\n",
      "127.0.0.1 - - [25/Mar/2021 20:50:31] \"POST /_dash-update-component HTTP/1.1\" 200 -\n",
      "127.0.0.1 - - [25/Mar/2021 20:53:39] \"POST /_dash-update-component HTTP/1.1\" 200 -\n"
     ]
    }
   ],
   "source": [
    "# Run the app\n",
    "if __name__ == '__main__':\n",
    "    # REVIEW8: Adding dev_tools_ui=False, dev_tools_props_check=False can prevent error appearing before calling callback function\n",
    "    app.run_server(port=\"5000\", host=\"localhost\", debug=False, dev_tools_ui=False, dev_tools_props_check=False)"
   ]
  },
  {
   "cell_type": "code",
   "execution_count": null,
   "metadata": {},
   "outputs": [],
   "source": []
  },
  {
   "cell_type": "code",
   "execution_count": null,
   "metadata": {},
   "outputs": [],
   "source": []
  }
 ],
 "metadata": {
  "kernelspec": {
   "display_name": "Python 3",
   "language": "python",
   "name": "python3"
  },
  "language_info": {
   "codemirror_mode": {
    "name": "ipython",
    "version": 3
   },
   "file_extension": ".py",
   "mimetype": "text/x-python",
   "name": "python",
   "nbconvert_exporter": "python",
   "pygments_lexer": "ipython3",
   "version": "3.7.4"
  }
 },
 "nbformat": 4,
 "nbformat_minor": 2
}

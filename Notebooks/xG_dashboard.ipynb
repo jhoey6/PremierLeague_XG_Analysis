{
 "cells": [
  {
   "cell_type": "code",
<<<<<<< HEAD
<<<<<<< HEAD:xG_dashboard.ipynb
   "execution_count": 12,
=======
   "execution_count": 116,
>>>>>>> dev:Notebooks/xG_dashboard.ipynb
=======
   "execution_count": 70,
>>>>>>> dev
   "metadata": {},
   "outputs": [],
   "source": [
    "# Import required libraries\n",
    "import pandas as pd\n",
    "import dash\n",
    "import dash_html_components as html\n",
    "import dash_core_components as dcc\n",
    "from dash.dependencies import Input, Output, State\n",
    "from jupyter_dash import JupyterDash\n",
    "import plotly.graph_objects as go\n",
    "import plotly.express as px\n",
    "from dash import no_update\n",
    "import base64"
   ]
  },
  {
   "cell_type": "code",
<<<<<<< HEAD
<<<<<<< HEAD:xG_dashboard.ipynb
   "execution_count": 13,
=======
   "execution_count": 117,
>>>>>>> dev:Notebooks/xG_dashboard.ipynb
=======
   "execution_count": 71,
>>>>>>> dev
   "metadata": {},
   "outputs": [],
   "source": [
    "PLxG_21 = pd.read_csv('adv_shooting_PL_21.csv')"
   ]
  },
  {
   "cell_type": "code",
<<<<<<< HEAD
<<<<<<< HEAD:xG_dashboard.ipynb
   "execution_count": 14,
=======
   "execution_count": 118,
>>>>>>> dev:Notebooks/xG_dashboard.ipynb
=======
   "execution_count": 72,
>>>>>>> dev
   "metadata": {},
   "outputs": [],
   "source": [
    "# Create a dash application\n",
    "app = JupyterDash(__name__)\n",
    "#JupyterDash.infer_jupyter_proxy_config()\n",
    "\n",
    "#app.config.suppress_callback_exceptions = True"
   ]
  },
  {
   "cell_type": "code",
<<<<<<< HEAD
<<<<<<< HEAD:xG_dashboard.ipynb
   "execution_count": 15,
=======
   "execution_count": 119,
>>>>>>> dev:Notebooks/xG_dashboard.ipynb
=======
   "execution_count": 73,
>>>>>>> dev
   "metadata": {},
   "outputs": [],
   "source": [
    "test_png = 'pl_img.png'\n",
    "test_base64 = base64.b64encode(open(test_png, 'rb').read()).decode('ascii')"
   ]
  },
  {
   "cell_type": "code",
<<<<<<< HEAD
<<<<<<< HEAD:xG_dashboard.ipynb
   "execution_count": 16,
=======
   "execution_count": 120,
>>>>>>> dev:Notebooks/xG_dashboard.ipynb
=======
   "execution_count": 74,
>>>>>>> dev
   "metadata": {},
   "outputs": [],
   "source": [
    "#formatting\n",
    "colors = {\n",
    "    'background': '#111111',\n",
    "    'text': '#7FDBFF'\n",
    "}"
   ]
  },
  {
   "cell_type": "code",
<<<<<<< HEAD
<<<<<<< HEAD:xG_dashboard.ipynb
   "execution_count": 17,
=======
   "execution_count": 121,
>>>>>>> dev:Notebooks/xG_dashboard.ipynb
=======
   "execution_count": 75,
>>>>>>> dev
   "metadata": {},
   "outputs": [],
   "source": [
    "team_dropdown = [{'label': 'Arsenal', 'value': 'ARS'},\n",
    "                 {'label': 'Aston Villa', 'value': 'AVL'},\n",
    "                 {'label': 'Brighton', 'value': 'BHA'},\n",
    "                 {'label': 'Burnley', 'value': 'BUR'},\n",
    "                 {'label': 'Crystal Palace', 'value': 'CPY'},\n",
    "                 {'label': 'Everton', 'value': 'EVE'},\n",
    "                 {'label': 'Fulham', 'value': 'FUL'},\n",
    "                 {'label': 'Leeds United', 'value': 'LEE'},\n",
    "                 {'label': 'Leicester City', 'value': 'LEI'},\n",
    "                 {'label': 'Liverpool', 'value': 'LVP'},\n",
    "                 {'label': 'Manchester City', 'value': 'MNC'},\n",
    "                 {'label': 'Manchester United', 'value': 'MNU'},\n",
    "                 {'label': 'Newcastle United', 'value': 'NEW'},\n",
    "                 {'label': 'Sheffield United', 'value': 'SHE'},\n",
    "                 {'label': 'Southampton', 'value': 'SOU'},\n",
    "                 {'label': 'Tottenham Hotspurs', 'value': 'TOT'},\n",
    "                 {'label': 'West Bromich Albion', 'value': 'WBA'},\n",
    "                 {'label': 'West Ham United', 'value': 'WHA'},\n",
    "                 {'label': 'Wolverhampton Wanderers', 'value': 'WOL'}\n",
    "                ]"
   ]
  },
  {
   "cell_type": "code",
<<<<<<< HEAD
<<<<<<< HEAD:xG_dashboard.ipynb
   "execution_count": 18,
=======
   "execution_count": 122,
>>>>>>> dev:Notebooks/xG_dashboard.ipynb
   "metadata": {},
   "outputs": [
    {
     "data": {
      "text/plain": [
       "{1: 1,\n",
       " 2: 2,\n",
       " 3: 3,\n",
       " 4: 4,\n",
       " 5: 5,\n",
       " 6: 6,\n",
       " 7: 7,\n",
       " 8: 8,\n",
       " 9: 9,\n",
       " 10: 10,\n",
       " 11: 11,\n",
       " 12: 12,\n",
       " 13: 13,\n",
       " 14: 14,\n",
       " 15: 15,\n",
       " 16: 16,\n",
       " 17: 17,\n",
       " 18: 18,\n",
       " 19: 19,\n",
       " 20: 20,\n",
       " 21: 21,\n",
       " 22: 22,\n",
       " 23: 23,\n",
       " 24: 24,\n",
       " 25: 25,\n",
       " 26: 26,\n",
       " 27: 27,\n",
       " 28: 28,\n",
       " 29: 29,\n",
       " 33: 33}"
      ]
     },
<<<<<<< HEAD:xG_dashboard.ipynb
     "execution_count": 18,
=======
     "execution_count": 122,
>>>>>>> dev:Notebooks/xG_dashboard.ipynb
     "metadata": {},
     "output_type": "execute_result"
    }
   ],
   "source": [
    "{x:x for x in set(PLxG_21['Round'])}\n"
   ]
  },
  {
   "cell_type": "code",
<<<<<<< HEAD:xG_dashboard.ipynb
   "execution_count": 19,
=======
   "execution_count": 123,
>>>>>>> dev:Notebooks/xG_dashboard.ipynb
=======
   "execution_count": 76,
>>>>>>> dev
   "metadata": {},
   "outputs": [],
   "source": [
    "app.layout = html.Div(children=[\n",
    "    html.Div([\n",
    "        html.H1('Premier Leauge 2020-2021 Advanced Shooting Dashboard', style={'textAlign': 'center', 'font-size': 40}),\n",
    "        html.Img(src='data:image/png;base64,{}'.format(test_base64))       \n",
    "    ], style={'display': 'flex', 'color': colors['text']}),\n",
    "     \n",
    "    html.Div(className = 'toggle', children=[\n",
    "        html.Div(\n",
    "        dcc.Dropdown(id='team-select',\n",
    "                    options = team_dropdown,\n",
    "                    placeholder='Select Teams',\n",
    "                    #style={'width':'50%', 'padding':'3px', 'font-size': '20px', 'text-align-last' : 'center'},\n",
    "                    value = ['ARS', 'AVL'],\n",
    "                    multi=True)),\n",
    "        html.Div(\n",
    "        dcc.RangeSlider(id='matchday-range',\n",
    "                       min=1,\n",
    "                       max=36,\n",
    "                       step=1,\n",
    "                       value=[1, 36],\n",
    "                       marks = {x:x for x in set(PLxG_21['Round'])},\n",
    "                       allowCross=False))\n",
    "        \n",
    "    ]),\n",
    "    \n",
    "    html.Div(dcc.Graph(id='plot1')),\n",
    "    html.Div(dcc.Graph(id='plot2'))\n",
    "        \n",
    "    ])\n",
    "\n"
   ]
  },
  {
   "cell_type": "code",
<<<<<<< HEAD
<<<<<<< HEAD:xG_dashboard.ipynb
   "execution_count": 20,
=======
   "execution_count": 124,
>>>>>>> dev:Notebooks/xG_dashboard.ipynb
=======
   "execution_count": 77,
>>>>>>> dev
   "metadata": {},
   "outputs": [],
   "source": [
    "@app.callback([Output(component_id='plot1', component_property='figure'),\n",
    "              Output(component_id='plot2', component_property='figure')],\n",
    "              [Input(component_id='team-select', component_property='value'),\n",
    "               Input(component_id='matchday-range', component_property='value')])\n",
    "def matchday_xG(teams, rounds):\n",
    "    \n",
    "    df_rounds = PLxG_21[PLxG_21['Round'].between(rounds[0], rounds[1])]\n",
    "    if type(teams) == 'str':\n",
    "        df = df_rounds[df_rounds['Team'] == teams]\n",
    "    else:\n",
    "        df = df_rounds[df_rounds['Team'].isin(teams)]\n",
    "        \n",
    "    xG_trend = px.area(df, x='Round', y='xG', color='Team')\n",
    "    \n",
    "    rounds_grouped = df_rounds.groupby('Team').mean().reset_index()\n",
    "    xGvGF = px.scatter(rounds_grouped, x='xG', y='GF', color='Team')\n",
    "    \n",
    "    \n",
    "    return xG_trend, xGvGF\n",
    "              "
   ]
  },
  {
   "cell_type": "code",
<<<<<<< HEAD
<<<<<<< HEAD:xG_dashboard.ipynb
   "execution_count": 21,
=======
   "execution_count": 125,
>>>>>>> dev:Notebooks/xG_dashboard.ipynb
=======
   "execution_count": 78,
>>>>>>> dev
   "metadata": {},
   "outputs": [],
   "source": [
    "# df_rounds = PLxG_21[PLxG_21['Round'].between(1, 36)]\n",
    "# df2 = df_rounds.groupby('Team').mean().reset_index()\n",
    "# xGvGF = px.scatter(df2, x='xG', y='GF')\n",
    "# xGvGF.show()"
   ]
  },
  {
   "cell_type": "code",
<<<<<<< HEAD
<<<<<<< HEAD:xG_dashboard.ipynb
   "execution_count": 22,
=======
   "execution_count": 126,
>>>>>>> dev:Notebooks/xG_dashboard.ipynb
=======
   "execution_count": 79,
>>>>>>> dev
   "metadata": {},
   "outputs": [
    {
     "name": "stderr",
     "output_type": "stream",
     "text": [
<<<<<<< HEAD
<<<<<<< HEAD:xG_dashboard.ipynb
      "127.0.0.1 - - [25/Mar/2021 21:45:41] \"GET /_shutdown_b2262512-827a-4624-99fb-727e458aa920 HTTP/1.1\" 200 -\n",
      " * Running on http://localhost:5000/ (Press CTRL+C to quit)\n",
      "127.0.0.1 - - [25/Mar/2021 21:45:43] \"GET /_alive_b2262512-827a-4624-99fb-727e458aa920 HTTP/1.1\" 200 -\n"
=======
      "127.0.0.1 - - [25/Mar/2021 22:12:20] \"GET /_shutdown_ec59eb89-3278-4741-81c4-735a6e269aef HTTP/1.1\" 200 -\n",
      " * Running on http://localhost:5001/ (Press CTRL+C to quit)\n",
      "127.0.0.1 - - [25/Mar/2021 22:12:22] \"GET /_alive_ec59eb89-3278-4741-81c4-735a6e269aef HTTP/1.1\" 200 -\n"
>>>>>>> dev:Notebooks/xG_dashboard.ipynb
=======
      "127.0.0.1 - - [26/Mar/2021 18:58:17] \"GET /_shutdown_56fc3d83-8d61-4ea3-899c-91e2e5240667 HTTP/1.1\" 200 -\n",
      " * Running on http://localhost:5001/ (Press CTRL+C to quit)\n",
      "127.0.0.1 - - [26/Mar/2021 18:58:19] \"GET /_alive_56fc3d83-8d61-4ea3-899c-91e2e5240667 HTTP/1.1\" 200 -\n"
>>>>>>> dev
     ]
    },
    {
     "name": "stdout",
     "output_type": "stream",
     "text": [
      "Dash app running on http://localhost:5001/\n"
     ]
    },
    {
     "name": "stderr",
     "output_type": "stream",
     "text": [
<<<<<<< HEAD
<<<<<<< HEAD:xG_dashboard.ipynb
      "127.0.0.1 - - [25/Mar/2021 21:46:01] \"GET / HTTP/1.1\" 200 -\n",
      "127.0.0.1 - - [25/Mar/2021 21:46:01] \"GET /_dash-layout HTTP/1.1\" 200 -\n",
      "127.0.0.1 - - [25/Mar/2021 21:46:01] \"GET /_dash-dependencies HTTP/1.1\" 200 -\n",
      "127.0.0.1 - - [25/Mar/2021 21:46:06] \"POST /_dash-update-component HTTP/1.1\" 200 -\n"
=======
      "127.0.0.1 - - [25/Mar/2021 22:12:23] \"GET / HTTP/1.1\" 200 -\n",
      "127.0.0.1 - - [25/Mar/2021 22:12:23] \"GET /_dash-layout HTTP/1.1\" 200 -\n",
      "127.0.0.1 - - [25/Mar/2021 22:12:23] \"GET /_dash-dependencies HTTP/1.1\" 200 -\n",
      "127.0.0.1 - - [25/Mar/2021 22:12:24] \"POST /_dash-update-component HTTP/1.1\" 200 -\n",
      "127.0.0.1 - - [25/Mar/2021 22:12:28] \"POST /_dash-update-component HTTP/1.1\" 200 -\n"
>>>>>>> dev:Notebooks/xG_dashboard.ipynb
=======
      "127.0.0.1 - - [26/Mar/2021 18:58:21] \"GET / HTTP/1.1\" 200 -\n",
      "127.0.0.1 - - [26/Mar/2021 18:58:21] \"GET /_dash-dependencies HTTP/1.1\" 200 -\n",
      "127.0.0.1 - - [26/Mar/2021 18:58:21] \"GET /_dash-layout HTTP/1.1\" 200 -\n",
      "127.0.0.1 - - [26/Mar/2021 18:58:22] \"POST /_dash-update-component HTTP/1.1\" 200 -\n",
      "127.0.0.1 - - [26/Mar/2021 18:58:29] \"POST /_dash-update-component HTTP/1.1\" 200 -\n"
>>>>>>> dev
     ]
    }
   ],
   "source": [
    "# Run the app\n",
    "if __name__ == '__main__':\n",
    "    # REVIEW8: Adding dev_tools_ui=False, dev_tools_props_check=False can prevent error appearing before calling callback function\n",
    "    app.run_server(port=\"5001\", host=\"localhost\", debug=False, dev_tools_ui=False, dev_tools_props_check=False)"
   ]
  },
  {
   "cell_type": "code",
   "execution_count": null,
   "metadata": {},
   "outputs": [],
   "source": []
  },
  {
   "cell_type": "code",
   "execution_count": null,
   "metadata": {},
   "outputs": [],
   "source": []
  }
 ],
 "metadata": {
  "kernelspec": {
   "display_name": "Python 3",
   "language": "python",
   "name": "python3"
  },
  "language_info": {
   "codemirror_mode": {
    "name": "ipython",
    "version": 3
   },
   "file_extension": ".py",
   "mimetype": "text/x-python",
   "name": "python",
   "nbconvert_exporter": "python",
   "pygments_lexer": "ipython3",
   "version": "3.7.4"
  }
 },
 "nbformat": 4,
 "nbformat_minor": 2
}
